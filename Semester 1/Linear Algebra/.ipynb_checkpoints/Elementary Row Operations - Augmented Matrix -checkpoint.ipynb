{
 "cells": [
  {
   "cell_type": "markdown",
   "metadata": {},
   "source": [
    "# Augmented Matrix "
   ]
  },
  {
   "cell_type": "code",
   "execution_count": 22,
   "metadata": {},
   "outputs": [
    {
     "name": "stdout",
     "output_type": "stream",
     "text": [
      "Enter a number : 53\n"
     ]
    }
   ],
   "source": [
    "a=input(\"Enter a number : \")"
   ]
  },
  {
   "cell_type": "code",
   "execution_count": 20,
   "metadata": {},
   "outputs": [
    {
     "name": "stdout",
     "output_type": "stream",
     "text": [
      "Enter A1, B1, C1, D1 : 10 4 4 2\n"
     ]
    }
   ],
   "source": [
    "A1,B1,C1,D1 = input(\"Enter A1, B1, C1, D1 : \").split()"
   ]
  },
  {
   "cell_type": "code",
   "execution_count": 24,
   "metadata": {},
   "outputs": [
    {
     "name": "stdout",
     "output_type": "stream",
     "text": [
      "10 4 4 2\n"
     ]
    }
   ],
   "source": [
    "print(A1,B1,C1,D1)"
   ]
  },
  {
   "cell_type": "code",
   "execution_count": 25,
   "metadata": {},
   "outputs": [
    {
     "name": "stdout",
     "output_type": "stream",
     "text": [
      "Enter A2, B2, C2, D2 : 94 22 36 27\n"
     ]
    }
   ],
   "source": [
    "A2,B2,C2,D2 = input(\"Enter A2, B2, C2, D2 : \").split()"
   ]
  },
  {
   "cell_type": "code",
   "execution_count": 27,
   "metadata": {},
   "outputs": [
    {
     "name": "stdout",
     "output_type": "stream",
     "text": [
      "94 22 36 27\n"
     ]
    }
   ],
   "source": [
    "print(A2,B2,C2,D2)"
   ]
  },
  {
   "cell_type": "code",
   "execution_count": 46,
   "metadata": {},
   "outputs": [
    {
     "name": "stdout",
     "output_type": "stream",
     "text": [
      "Enter A2, B2, C2, D2 : 10 9 6 4 3 7\n"
     ]
    }
   ],
   "source": [
    "A = input(\"Enter A2, B2, C2, D2 : \").split()"
   ]
  },
  {
   "cell_type": "code",
   "execution_count": 47,
   "metadata": {},
   "outputs": [
    {
     "data": {
      "text/plain": [
       "['10', '9', '6', '4', '3', '7']"
      ]
     },
     "execution_count": 47,
     "metadata": {},
     "output_type": "execute_result"
    }
   ],
   "source": [
    "A"
   ]
  },
  {
   "cell_type": "code",
   "execution_count": 6,
   "metadata": {},
   "outputs": [],
   "source": [
    "import numpy as np"
   ]
  },
  {
   "cell_type": "code",
   "execution_count": 31,
   "metadata": {},
   "outputs": [
    {
     "data": {
      "text/plain": [
       "array([[57, 23, 39, 75, 31],\n",
       "       [60, 18, 94, 70,  0],\n",
       "       [78, 64, 39, 52, 54],\n",
       "       [ 9, 40, 93, 70, 27],\n",
       "       [56,  9, 95, 23, 25]])"
      ]
     },
     "execution_count": 31,
     "metadata": {},
     "output_type": "execute_result"
    }
   ],
   "source": [
    "A=np.random.randint(100,size=(5,5))\n",
    "A"
   ]
  },
  {
   "cell_type": "code",
   "execution_count": 100,
   "metadata": {},
   "outputs": [
    {
     "data": {
      "text/plain": [
       "array([32, 38, 96, 76, 32])"
      ]
     },
     "execution_count": 100,
     "metadata": {},
     "output_type": "execute_result"
    }
   ],
   "source": [
    "A[0]"
   ]
  },
  {
   "cell_type": "code",
   "execution_count": 95,
   "metadata": {},
   "outputs": [
    {
     "data": {
      "text/plain": [
       "1.0"
      ]
     },
     "execution_count": 95,
     "metadata": {},
     "output_type": "execute_result"
    }
   ],
   "source": [
    "B[0][3]"
   ]
  },
  {
   "cell_type": "code",
   "execution_count": 1,
   "metadata": {},
   "outputs": [],
   "source": [
    "def Augmented():\n",
    "    n=(int)(input(\"Enter the number of equations : \"))\n",
    "    v=(int)(input(\"Enter the number of variables : \"))\n",
    "    B=np.zeros((n,v+1))\n",
    "    for i in range(0,n): \n",
    "        B[i]=input(\"Enter coefficients of equation including the constant on RHS : \").split()\n",
    "    return B"
   ]
  },
  {
   "cell_type": "code",
   "execution_count": 77,
   "metadata": {},
   "outputs": [
    {
     "name": "stdout",
     "output_type": "stream",
     "text": [
      "Enter the number of equations : 2\n",
      "Enter the number of variables : 3\n",
      "Enter coefficients of equation including the constant on RHS : 10 7 5 7\n",
      "Enter coefficients of equation including the constant on RHS : 10 7 4 6\n"
     ]
    },
    {
     "data": {
      "text/plain": [
       "array([[10.,  7.,  5.,  7.],\n",
       "       [10.,  7.,  4.,  6.]])"
      ]
     },
     "execution_count": 77,
     "metadata": {},
     "output_type": "execute_result"
    }
   ],
   "source": [
    "Augmented()"
   ]
  },
  {
   "cell_type": "markdown",
   "metadata": {},
   "source": [
    "# Elementary Row Operations"
   ]
  },
  {
   "cell_type": "code",
   "execution_count": null,
   "metadata": {},
   "outputs": [],
   "source": [
    "\"\"\"\n",
    "1. Multiply an equation through by a nonzero constant.\n",
    "2. Interchange two equations.\n",
    "3. Add a constant times one equation to another.\n",
    "Since the rows (horizontal lines) of an augmented matrix correspond to the equations in the associated system,\n",
    "these three operations correspond to the following operations on the rows of the augmented matrix:\n",
    "1. Multiply a row through by a nonzero constant.\n",
    "2. Interchange two rows.\n",
    "3. Add a constant times one row to another\n",
    "These are called elementary row operations on a matrix\n",
    "\"\"\""
   ]
  },
  {
   "cell_type": "markdown",
   "metadata": {},
   "source": [
    "###  1. Multiply an equation through by a nonzero constant."
   ]
  },
  {
   "cell_type": "code",
   "execution_count": 137,
   "metadata": {},
   "outputs": [
    {
     "name": "stdout",
     "output_type": "stream",
     "text": [
      "Enter constant to multiply the row with along with the row number 10 5\n"
     ]
    }
   ],
   "source": [
    "n=(input(\"Enter constant to multiply the row with along with the row number \").split())"
   ]
  },
  {
   "cell_type": "code",
   "execution_count": 138,
   "metadata": {},
   "outputs": [],
   "source": [
    "n = list(map(int, n))"
   ]
  },
  {
   "cell_type": "code",
   "execution_count": 139,
   "metadata": {},
   "outputs": [],
   "source": [
    "n[1]-=1"
   ]
  },
  {
   "cell_type": "code",
   "execution_count": 140,
   "metadata": {},
   "outputs": [
    {
     "data": {
      "text/plain": [
       "[10, 4]"
      ]
     },
     "execution_count": 140,
     "metadata": {},
     "output_type": "execute_result"
    }
   ],
   "source": [
    "n"
   ]
  },
  {
   "cell_type": "code",
   "execution_count": 142,
   "metadata": {},
   "outputs": [
    {
     "data": {
      "text/plain": [
       "array([[94,  4, 29, 65, 83],\n",
       "       [39, 93, 87, 35, 78],\n",
       "       [49, 47, 60, 95, 56],\n",
       "       [66, 98,  7, 21, 26],\n",
       "       [24, 86, 28, 97, 71]])"
      ]
     },
     "execution_count": 142,
     "metadata": {},
     "output_type": "execute_result"
    }
   ],
   "source": [
    "A"
   ]
  },
  {
   "cell_type": "code",
   "execution_count": 7,
   "metadata": {},
   "outputs": [
    {
     "name": "stdout",
     "output_type": "stream",
     "text": [
      "Enter the number of equations : 2\n",
      "Enter the number of variables : 3\n",
      "Enter coefficients of equation including the constant on RHS : 10 7 5 2\n",
      "Enter coefficients of equation including the constant on RHS : 2\n",
      "Enter constant to multiply the row with along with the row number 10 1\n"
     ]
    },
    {
     "data": {
      "text/plain": [
       "array([[100.,  70.,  50.,  20.],\n",
       "       [  2.,   2.,   2.,   2.]])"
      ]
     },
     "execution_count": 7,
     "metadata": {},
     "output_type": "execute_result"
    }
   ],
   "source": [
    "#We can pass a function as a parameter. Don't put brackets for parameters since that will be a function call then use \n",
    "#a variable inside the function to get the value of the first function(parameter function)\n",
    "Elementary(Augmented)"
   ]
  },
  {
   "cell_type": "code",
   "execution_count": 4,
   "metadata": {},
   "outputs": [],
   "source": [
    "\"\"\"\n",
    "def Elementary(fn):\n",
    "    A=fn()\n",
    "    n=(input(\"Enter constant to multiply the row with along with the row number \").split())\n",
    "    n = list(map(int, n))\n",
    "    n[1]-=1\n",
    "    A[n[1]]*=n[0]\n",
    "    return A\n",
    "\"\"\""
   ]
  },
  {
   "cell_type": "code",
   "execution_count": 24,
   "metadata": {},
   "outputs": [],
   "source": [
    "#Multiply an equation with a non zero constant\n",
    "def Constant_Multiplication(A):\n",
    "    n=(input(\"Enter constant to multiply the row with along with the row number \").split())\n",
    "    n = list(map(int, n))\n",
    "    n[1]-=1\n",
    "    A[n[1]]*=n[0]\n",
    "    return A"
   ]
  },
  {
   "cell_type": "code",
   "execution_count": 25,
   "metadata": {},
   "outputs": [
    {
     "name": "stdout",
     "output_type": "stream",
     "text": [
      "Enter constant to multiply the row with along with the row number 10 3\n"
     ]
    },
    {
     "data": {
      "text/plain": [
       "array([[ 36,  46,  32,  23,  89],\n",
       "       [ 22,  65,  53,  99,  37],\n",
       "       [450, 560, 990, 770, 530],\n",
       "       [ 18,  24,  15,  47,  80],\n",
       "       [ 78,  60,  50,  47,  25]])"
      ]
     },
     "execution_count": 25,
     "metadata": {},
     "output_type": "execute_result"
    }
   ],
   "source": [
    "Constant_Multiplication(A)"
   ]
  },
  {
   "cell_type": "markdown",
   "metadata": {},
   "source": [
    "### 2. Interchange two equations."
   ]
  },
  {
   "cell_type": "markdown",
   "metadata": {},
   "source": [
    "Swapping for numpy arrays the usual python way isn't that direct"
   ]
  },
  {
   "cell_type": "code",
   "execution_count": 115,
   "metadata": {},
   "outputs": [],
   "source": [
    "A[0],A[1]=A[1],A[0]"
   ]
  },
  {
   "cell_type": "code",
   "execution_count": 112,
   "metadata": {},
   "outputs": [],
   "source": [
    "temp=A[0]\n",
    "A[0]=A[1]\n",
    "A[1]=temp "
   ]
  },
  {
   "cell_type": "code",
   "execution_count": 113,
   "metadata": {},
   "outputs": [
    {
     "data": {
      "text/plain": [
       "array([39, 12, 88, 45, 21])"
      ]
     },
     "execution_count": 113,
     "metadata": {},
     "output_type": "execute_result"
    }
   ],
   "source": [
    "temp"
   ]
  },
  {
   "cell_type": "code",
   "execution_count": 122,
   "metadata": {},
   "outputs": [
    {
     "data": {
      "text/plain": [
       "array([[39, 93, 87, 35, 78],\n",
       "       [94,  4, 29, 65, 83],\n",
       "       [49, 47, 60, 95, 56],\n",
       "       [66, 98,  7, 21, 26],\n",
       "       [24, 86, 28, 97, 71]])"
      ]
     },
     "execution_count": 122,
     "metadata": {},
     "output_type": "execute_result"
    }
   ],
   "source": [
    "A"
   ]
  },
  {
   "cell_type": "code",
   "execution_count": 106,
   "metadata": {},
   "outputs": [],
   "source": [
    "x=5\n",
    "y=6\n",
    "x,y=y,x"
   ]
  },
  {
   "cell_type": "code",
   "execution_count": 107,
   "metadata": {},
   "outputs": [
    {
     "data": {
      "text/plain": [
       "(6, 5)"
      ]
     },
     "execution_count": 107,
     "metadata": {},
     "output_type": "execute_result"
    }
   ],
   "source": [
    "x,y"
   ]
  },
  {
   "cell_type": "code",
   "execution_count": 123,
   "metadata": {},
   "outputs": [],
   "source": [
    "A[[0,1]]=A[[1,0]]"
   ]
  },
  {
   "cell_type": "code",
   "execution_count": 10,
   "metadata": {},
   "outputs": [
    {
     "data": {
      "text/plain": [
       "array([[36, 46, 32, 23, 89],\n",
       "       [45, 56, 99, 77, 53],\n",
       "       [22, 65, 53, 99, 37],\n",
       "       [18, 24, 15, 47, 80],\n",
       "       [78, 60, 50, 47, 25]])"
      ]
     },
     "execution_count": 10,
     "metadata": {},
     "output_type": "execute_result"
    }
   ],
   "source": [
    "A"
   ]
  },
  {
   "cell_type": "code",
   "execution_count": 20,
   "metadata": {},
   "outputs": [],
   "source": [
    "def Interchange(A):\n",
    "    n=input(\"Enter the rows you want to interchange : \").split()\n",
    "    n=list(map(int,n))\n",
    "    n = [x - 1 for x in n]\n",
    "    A[[n[0],n[1]]]=A[[n[1],n[0]]]\n",
    "    return A"
   ]
  },
  {
   "cell_type": "code",
   "execution_count": 26,
   "metadata": {},
   "outputs": [
    {
     "name": "stdout",
     "output_type": "stream",
     "text": [
      "Enter the rows you want to interchange : 2 3\n"
     ]
    },
    {
     "data": {
      "text/plain": [
       "array([[ 36,  46,  32,  23,  89],\n",
       "       [450, 560, 990, 770, 530],\n",
       "       [ 22,  65,  53,  99,  37],\n",
       "       [ 18,  24,  15,  47,  80],\n",
       "       [ 78,  60,  50,  47,  25]])"
      ]
     },
     "execution_count": 26,
     "metadata": {},
     "output_type": "execute_result"
    }
   ],
   "source": [
    "Interchange(A)"
   ]
  },
  {
   "cell_type": "markdown",
   "metadata": {},
   "source": [
    "### 3. Add a constant times one equation to another."
   ]
  },
  {
   "cell_type": "code",
   "execution_count": 33,
   "metadata": {},
   "outputs": [
    {
     "data": {
      "text/plain": [
       "array([3420,  414, 3666, 5250,    0])"
      ]
     },
     "execution_count": 33,
     "metadata": {},
     "output_type": "execute_result"
    }
   ],
   "source": [
    "A[0]*A[1]"
   ]
  },
  {
   "cell_type": "code",
   "execution_count": 37,
   "metadata": {},
   "outputs": [
    {
     "data": {
      "text/plain": [
       "array([[657, 203, 979, 775,  31],\n",
       "       [ 60,  18,  94,  70,   0],\n",
       "       [ 78,  64,  39,  52,  54],\n",
       "       [  9,  40,  93,  70,  27],\n",
       "       [ 56,   9,  95,  23,  25]])"
      ]
     },
     "execution_count": 37,
     "metadata": {},
     "output_type": "execute_result"
    }
   ],
   "source": [
    "A"
   ]
  },
  {
   "cell_type": "code",
   "execution_count": 39,
   "metadata": {},
   "outputs": [],
   "source": [
    "def Equation_Addition(A):\n",
    "    n=input(\"Enter C,R1,R2 where R1 <- R1+CR2 Respectively : \").split()\n",
    "    n=list(map(int,n))\n",
    "    n = [x - 1 for x in n]\n",
    "    A[n[1]]=n[0]*A[n[2]]+A[n[1]]\n",
    "    return A"
   ]
  },
  {
   "cell_type": "code",
   "execution_count": 41,
   "metadata": {},
   "outputs": [],
   "source": [
    "A=np.ones((5,5))"
   ]
  },
  {
   "cell_type": "code",
   "execution_count": 42,
   "metadata": {},
   "outputs": [
    {
     "name": "stdout",
     "output_type": "stream",
     "text": [
      "Enter C,R1,R2 where R1 <- R1+CR2 Respectively : 10 1 2\n"
     ]
    },
    {
     "data": {
      "text/plain": [
       "array([[10., 10., 10., 10., 10.],\n",
       "       [ 1.,  1.,  1.,  1.,  1.],\n",
       "       [ 1.,  1.,  1.,  1.,  1.],\n",
       "       [ 1.,  1.,  1.,  1.,  1.],\n",
       "       [ 1.,  1.,  1.,  1.,  1.]])"
      ]
     },
     "execution_count": 42,
     "metadata": {},
     "output_type": "execute_result"
    }
   ],
   "source": [
    "Equation_Addition(A)"
   ]
  }
 ],
 "metadata": {
  "kernelspec": {
   "display_name": "Python 3",
   "language": "python",
   "name": "python3"
  },
  "language_info": {
   "codemirror_mode": {
    "name": "ipython",
    "version": 3
   },
   "file_extension": ".py",
   "mimetype": "text/x-python",
   "name": "python",
   "nbconvert_exporter": "python",
   "pygments_lexer": "ipython3",
   "version": "3.7.6"
  }
 },
 "nbformat": 4,
 "nbformat_minor": 4
}
