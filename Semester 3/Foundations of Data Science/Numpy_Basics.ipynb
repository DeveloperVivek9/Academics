{
 "cells": [
  {
   "cell_type": "code",
   "execution_count": 6,
   "metadata": {},
   "outputs": [],
   "source": [
    "class Node:\n",
    "    def __init__(self, dataval=None):\n",
    "        self.dataval = dataval\n",
    "        self.nextval = None\n",
    "\n",
    "class SLinkedList:\n",
    "    def __init__(self):\n",
    "        self.headval = None\n",
    "    def listprint(self):\n",
    "        printval = self.headval\n",
    "        while printval is not None:\n",
    "            print (printval.dataval)\n",
    "            printval = printval.nextval\n",
    "\n",
    "list1 = SLinkedList()\n",
    "list1.headval = Node(\"Mon\")\n",
    "e2 = Node(\"Tue\")\n",
    "e3 = Node(\"Wed\")\n",
    "# Link first Node to second node\n",
    "list1.headval.nextval = e2\n",
    "\n",
    "# Link second Node to third node\n",
    "e2.nextval = e3"
   ]
  },
  {
   "cell_type": "code",
   "execution_count": 7,
   "metadata": {},
   "outputs": [
    {
     "data": {
      "text/plain": [
       "'Tue'"
      ]
     },
     "execution_count": 7,
     "metadata": {},
     "output_type": "execute_result"
    }
   ],
   "source": [
    "list1.headval.nextval.dataval"
   ]
  },
  {
   "cell_type": "code",
   "execution_count": 10,
   "metadata": {},
   "outputs": [
    {
     "name": "stdout",
     "output_type": "stream",
     "text": [
      "Mon\n",
      "Tue\n",
      "Wed\n"
     ]
    }
   ],
   "source": [
    "list1.listprint()"
   ]
  },
  {
   "cell_type": "code",
   "execution_count": 11,
   "metadata": {},
   "outputs": [],
   "source": [
    "import numpy as np"
   ]
  },
  {
   "cell_type": "code",
   "execution_count": 15,
   "metadata": {},
   "outputs": [
    {
     "data": {
      "text/plain": [
       "array([[1., 1., 1., 1.],\n",
       "       [1., 1., 1., 1.],\n",
       "       [1., 1., 1., 1.]])"
      ]
     },
     "execution_count": 15,
     "metadata": {},
     "output_type": "execute_result"
    }
   ],
   "source": [
    "np.ones((3,4))"
   ]
  },
  {
   "cell_type": "code",
   "execution_count": 16,
   "metadata": {},
   "outputs": [
    {
     "data": {
      "text/plain": [
       "array([[0., 0., 0., 0., 0.],\n",
       "       [0., 0., 0., 0., 0.],\n",
       "       [0., 0., 0., 0., 0.],\n",
       "       [0., 0., 0., 0., 0.],\n",
       "       [0., 0., 0., 0., 0.]])"
      ]
     },
     "execution_count": 16,
     "metadata": {},
     "output_type": "execute_result"
    }
   ],
   "source": [
    "np.zeros((5,5))"
   ]
  },
  {
   "cell_type": "code",
   "execution_count": 17,
   "metadata": {},
   "outputs": [
    {
     "data": {
      "text/plain": [
       "array([[0.23162911, 0.26982487],\n",
       "       [0.44231483, 0.60441251]])"
      ]
     },
     "execution_count": 17,
     "metadata": {},
     "output_type": "execute_result"
    }
   ],
   "source": [
    "np.random.random((2,2))"
   ]
  },
  {
   "cell_type": "code",
   "execution_count": 18,
   "metadata": {},
   "outputs": [
    {
     "data": {
      "text/plain": [
       "array([[0.00000000e+000, 0.00000000e+000, 0.00000000e+000],\n",
       "       [0.00000000e+000, 0.00000000e+000, 5.75092412e-321],\n",
       "       [8.70018274e-313, 0.00000000e+000, 0.00000000e+000]])"
      ]
     },
     "execution_count": 18,
     "metadata": {},
     "output_type": "execute_result"
    }
   ],
   "source": [
    "np.empty((3,3))"
   ]
  },
  {
   "cell_type": "code",
   "execution_count": 21,
   "metadata": {},
   "outputs": [
    {
     "data": {
      "text/plain": [
       "array([[3, 3, 3, 3, 3],\n",
       "       [3, 3, 3, 3, 3],\n",
       "       [3, 3, 3, 3, 3],\n",
       "       [3, 3, 3, 3, 3],\n",
       "       [3, 3, 3, 3, 3]])"
      ]
     },
     "execution_count": 21,
     "metadata": {},
     "output_type": "execute_result"
    }
   ],
   "source": [
    "np.full((5,5),3)"
   ]
  },
  {
   "cell_type": "code",
   "execution_count": 31,
   "metadata": {},
   "outputs": [
    {
     "data": {
      "text/plain": [
       "array([[1., 0., 0., 0., 0.],\n",
       "       [0., 1., 0., 0., 0.],\n",
       "       [0., 0., 1., 0., 0.],\n",
       "       [0., 0., 0., 1., 0.],\n",
       "       [0., 0., 0., 0., 1.]])"
      ]
     },
     "execution_count": 31,
     "metadata": {},
     "output_type": "execute_result"
    }
   ],
   "source": [
    "np.eye(5)"
   ]
  },
  {
   "cell_type": "code",
   "execution_count": 32,
   "metadata": {},
   "outputs": [
    {
     "data": {
      "text/plain": [
       "array([[1.],\n",
       "       [0.],\n",
       "       [0.],\n",
       "       [0.],\n",
       "       [0.]])"
      ]
     },
     "execution_count": 32,
     "metadata": {},
     "output_type": "execute_result"
    }
   ],
   "source": [
    "np.eye(5,1)"
   ]
  },
  {
   "cell_type": "code",
   "execution_count": 29,
   "metadata": {},
   "outputs": [
    {
     "data": {
      "text/plain": [
       "array([[1., 0., 0., 0., 0.],\n",
       "       [0., 1., 0., 0., 0.],\n",
       "       [0., 0., 1., 0., 0.],\n",
       "       [0., 0., 0., 1., 0.],\n",
       "       [0., 0., 0., 0., 1.]])"
      ]
     },
     "execution_count": 29,
     "metadata": {},
     "output_type": "execute_result"
    }
   ],
   "source": [
    "np.identity(5)"
   ]
  },
  {
   "cell_type": "code",
   "execution_count": 47,
   "metadata": {},
   "outputs": [],
   "source": [
    "x =np.loadtxt(\"Experiment Text2.txt\")"
   ]
  },
  {
   "cell_type": "code",
   "execution_count": 49,
   "metadata": {},
   "outputs": [
    {
     "data": {
      "text/plain": [
       "array([  1.,   2.,   3.,   4.,   5.,   6.,   7.,   8.,   9.,  10.,  11.,\n",
       "        12.,  13.,  67., 378., 163., 127.,  20.])"
      ]
     },
     "execution_count": 49,
     "metadata": {},
     "output_type": "execute_result"
    }
   ],
   "source": [
    "x"
   ]
  },
  {
   "cell_type": "code",
   "execution_count": 50,
   "metadata": {},
   "outputs": [],
   "source": [
    "#loadtxt has skiprows & unpack parameters where skiprows skips the number of rows specified while unpack divides the column of values to different array. "
   ]
  },
  {
   "cell_type": "code",
   "execution_count": 51,
   "metadata": {},
   "outputs": [],
   "source": [
    "#genfromtext function takes in string too, the dafault value being nan\n",
    "x = np.genfromtxt(\"Experiment Text.txt\")"
   ]
  },
  {
   "cell_type": "code",
   "execution_count": null,
   "metadata": {},
   "outputs": [],
   "source": [
    "a"
   ]
  },
  {
   "cell_type": "code",
   "execution_count": 42,
   "metadata": {},
   "outputs": [
    {
     "data": {
      "text/plain": [
       "array([nan, nan, nan, nan, nan, nan, nan, nan, nan, nan, nan, nan, nan,\n",
       "        1., nan,  2., nan])"
      ]
     },
     "execution_count": 42,
     "metadata": {},
     "output_type": "execute_result"
    }
   ],
   "source": [
    "x"
   ]
  },
  {
   "cell_type": "code",
   "execution_count": 58,
   "metadata": {},
   "outputs": [
    {
     "name": "stdout",
     "output_type": "stream",
     "text": [
      "[10. 10. 10. 10. 10. 10. 10. 10. 10. 10. 10. 10. 10.  1. 10.  2. 10.]\n"
     ]
    }
   ],
   "source": [
    "print(np.genfromtxt(\"Experiment Text.txt\",filling_values=10))"
   ]
  },
  {
   "cell_type": "code",
   "execution_count": 85,
   "metadata": {},
   "outputs": [],
   "source": [
    "a1,a2,a3,a4,a5,a6,a7=np.loadtxt(\"Stat2.txt\",skiprows=0,unpack=True)"
   ]
  },
  {
   "cell_type": "code",
   "execution_count": 86,
   "metadata": {},
   "outputs": [],
   "source": [
    "x=np.loadtxt(\"Stat2.txt\",skiprows=0,unpack=True)"
   ]
  },
  {
   "cell_type": "code",
   "execution_count": 73,
   "metadata": {},
   "outputs": [
    {
     "name": "stdout",
     "output_type": "stream",
     "text": [
      "[ 1.  2.  3.  4.  5.  6.  7.  8.  9. 10. 11. 12. 13. 14. 15. 16. 17. 18.\n",
      " 19. 20. 21. 22. 23. 24. 25.] \n",
      " [1.103 0.842 0.925 0.857 0.795 0.787 0.933 0.799 0.945 0.921 0.792 0.815\n",
      " 0.755 0.88  0.9   0.764 0.733 0.932 0.856 0.89  0.688 0.94  0.493 0.835\n",
      " 0.915] \n",
      " [1.052 0.859 0.873 0.744 0.809 0.779 0.88  0.851 0.876 0.906 0.825 0.751\n",
      " 0.724 0.866 0.838 0.757 0.748 0.898 0.786 0.95  0.532 0.85  0.616 0.752\n",
      " 0.936] \n",
      " [2.139 1.873 1.887 1.739 1.734 1.509 1.695 1.74  1.811 1.954 1.624 2.204\n",
      " 1.508 1.786 1.902 1.743 1.863 2.028 1.39  2.187 1.65  2.334 1.037 1.509\n",
      " 1.971]\n"
     ]
    }
   ],
   "source": [
    "print(a1,\"\\n\",a2,\"\\n\",a3,\"\\n\",a4)"
   ]
  },
  {
   "cell_type": "code",
   "execution_count": 74,
   "metadata": {},
   "outputs": [
    {
     "data": {
      "text/plain": [
       "array([[ 2.   ,  3.   ,  4.   ,  5.   ,  6.   ,  7.   ,  8.   ,  9.   ,\n",
       "        10.   , 11.   , 12.   , 13.   , 14.   , 15.   , 16.   , 17.   ,\n",
       "        18.   , 19.   , 20.   , 21.   , 22.   , 23.   , 24.   , 25.   ],\n",
       "       [ 0.842,  0.925,  0.857,  0.795,  0.787,  0.933,  0.799,  0.945,\n",
       "         0.921,  0.792,  0.815,  0.755,  0.88 ,  0.9  ,  0.764,  0.733,\n",
       "         0.932,  0.856,  0.89 ,  0.688,  0.94 ,  0.493,  0.835,  0.915],\n",
       "       [ 0.859,  0.873,  0.744,  0.809,  0.779,  0.88 ,  0.851,  0.876,\n",
       "         0.906,  0.825,  0.751,  0.724,  0.866,  0.838,  0.757,  0.748,\n",
       "         0.898,  0.786,  0.95 ,  0.532,  0.85 ,  0.616,  0.752,  0.936],\n",
       "       [ 1.873,  1.887,  1.739,  1.734,  1.509,  1.695,  1.74 ,  1.811,\n",
       "         1.954,  1.624,  2.204,  1.508,  1.786,  1.902,  1.743,  1.863,\n",
       "         2.028,  1.39 ,  2.187,  1.65 ,  2.334,  1.037,  1.509,  1.971],\n",
       "       [ 1.741,  1.809,  1.547,  1.715,  1.474,  1.656,  1.777,  1.759,\n",
       "         2.009,  1.657,  1.846,  1.458,  1.811,  1.606,  1.794,  1.869,\n",
       "         2.032,  1.324,  2.087,  1.378,  2.225,  1.268,  1.422,  1.869],\n",
       "       [ 0.59 ,  0.767,  0.706,  0.549,  0.782,  0.737,  0.618,  0.853,\n",
       "         0.823,  0.686,  0.678,  0.662,  0.81 ,  0.723,  0.586,  0.672,\n",
       "         0.836,  0.578,  0.758,  0.533,  0.757,  0.546,  0.618,  0.869],\n",
       "       [ 0.744,  0.713,  0.674,  0.654,  0.571,  0.803,  0.682,  0.777,\n",
       "         0.765,  0.668,  0.546,  0.595,  0.819,  0.677,  0.541,  0.752,\n",
       "         0.805,  0.61 ,  0.718,  0.482,  0.731,  0.615,  0.664,  0.868]])"
      ]
     },
     "execution_count": 74,
     "metadata": {},
     "output_type": "execute_result"
    }
   ],
   "source": [
    "x"
   ]
  },
  {
   "cell_type": "code",
   "execution_count": 87,
   "metadata": {},
   "outputs": [
    {
     "data": {
      "text/plain": [
       "2"
      ]
     },
     "execution_count": 87,
     "metadata": {},
     "output_type": "execute_result"
    }
   ],
   "source": [
    "np.ndim(x)"
   ]
  },
  {
   "cell_type": "code",
   "execution_count": 77,
   "metadata": {},
   "outputs": [
    {
     "ename": "ValueError",
     "evalue": "Some errors were detected !\n    Line #2 (got 7 columns instead of 11)\n    Line #3 (got 7 columns instead of 11)\n    Line #4 (got 7 columns instead of 11)\n    Line #5 (got 7 columns instead of 11)\n    Line #6 (got 7 columns instead of 11)\n    Line #7 (got 7 columns instead of 11)\n    Line #8 (got 7 columns instead of 11)\n    Line #9 (got 7 columns instead of 11)\n    Line #10 (got 7 columns instead of 11)\n    Line #11 (got 7 columns instead of 11)\n    Line #12 (got 7 columns instead of 11)\n    Line #13 (got 8 columns instead of 11)\n    Line #14 (got 8 columns instead of 11)\n    Line #15 (got 8 columns instead of 11)\n    Line #16 (got 7 columns instead of 11)\n    Line #17 (got 8 columns instead of 11)\n    Line #18 (got 7 columns instead of 11)\n    Line #19 (got 7 columns instead of 11)\n    Line #20 (got 7 columns instead of 11)\n    Line #21 (got 8 columns instead of 11)\n    Line #22 (got 7 columns instead of 11)\n    Line #23 (got 7 columns instead of 11)\n    Line #24 (got 7 columns instead of 11)\n    Line #25 (got 7 columns instead of 11)\n    Line #26 (got 7 columns instead of 11)\n    Line #27 (got 7 columns instead of 11)\n    Line #28 (got 7 columns instead of 11)\n    Line #29 (got 7 columns instead of 11)\n    Line #30 (got 7 columns instead of 11)\n    Line #31 (got 7 columns instead of 11)\n    Line #32 (got 8 columns instead of 11)\n    Line #33 (got 8 columns instead of 11)\n    Line #34 (got 7 columns instead of 11)\n    Line #35 (got 7 columns instead of 11)\n    Line #36 (got 7 columns instead of 11)\n    Line #37 (got 7 columns instead of 11)\n    Line #38 (got 7 columns instead of 11)\n    Line #39 (got 7 columns instead of 11)\n    Line #40 (got 8 columns instead of 11)\n    Line #41 (got 7 columns instead of 11)\n    Line #42 (got 9 columns instead of 11)\n    Line #43 (got 7 columns instead of 11)\n    Line #44 (got 7 columns instead of 11)\n    Line #45 (got 7 columns instead of 11)\n    Line #46 (got 7 columns instead of 11)\n    Line #47 (got 7 columns instead of 11)\n    Line #48 (got 7 columns instead of 11)\n    Line #49 (got 1 columns instead of 11)\n    Line #50 (got 1 columns instead of 11)\n    Line #51 (got 1 columns instead of 11)\n    Line #52 (got 1 columns instead of 11)\n    Line #53 (got 1 columns instead of 11)\n    Line #54 (got 1 columns instead of 11)\n    Line #55 (got 1 columns instead of 11)\n    Line #56 (got 1 columns instead of 11)\n    Line #57 (got 1 columns instead of 11)\n    Line #58 (got 1 columns instead of 11)\n    Line #59 (got 1 columns instead of 11)\n    Line #60 (got 1 columns instead of 11)\n    Line #61 (got 1 columns instead of 11)\n    Line #62 (got 1 columns instead of 11)\n    Line #63 (got 1 columns instead of 11)\n    Line #64 (got 1 columns instead of 11)\n    Line #65 (got 1 columns instead of 11)\n    Line #66 (got 1 columns instead of 11)\n    Line #67 (got 1 columns instead of 11)\n    Line #68 (got 1 columns instead of 11)\n    Line #69 (got 1 columns instead of 11)\n    Line #70 (got 1 columns instead of 11)\n    Line #71 (got 1 columns instead of 11)\n    Line #72 (got 1 columns instead of 11)\n    Line #73 (got 1 columns instead of 11)\n    Line #74 (got 1 columns instead of 11)\n    Line #75 (got 1 columns instead of 11)\n    Line #76 (got 1 columns instead of 11)\n    Line #77 (got 1 columns instead of 11)\n    Line #78 (got 1 columns instead of 11)\n    Line #79 (got 1 columns instead of 11)\n    Line #80 (got 1 columns instead of 11)\n    Line #81 (got 1 columns instead of 11)\n    Line #82 (got 1 columns instead of 11)\n    Line #83 (got 1 columns instead of 11)\n    Line #84 (got 1 columns instead of 11)\n    Line #85 (got 1 columns instead of 11)\n    Line #86 (got 1 columns instead of 11)\n    Line #87 (got 1 columns instead of 11)\n    Line #88 (got 1 columns instead of 11)\n    Line #89 (got 1 columns instead of 11)\n    Line #90 (got 1 columns instead of 11)\n    Line #91 (got 1 columns instead of 11)\n    Line #92 (got 1 columns instead of 11)\n    Line #93 (got 1 columns instead of 11)\n    Line #94 (got 1 columns instead of 11)\n    Line #95 (got 1 columns instead of 11)\n    Line #96 (got 1 columns instead of 11)",
     "output_type": "error",
     "traceback": [
      "\u001b[1;31m---------------------------------------------------------------------------\u001b[0m",
      "\u001b[1;31mValueError\u001b[0m                                Traceback (most recent call last)",
      "\u001b[1;32m<ipython-input-77-8a9e006421b6>\u001b[0m in \u001b[0;36m<module>\u001b[1;34m\u001b[0m\n\u001b[1;32m----> 1\u001b[1;33m \u001b[0mg\u001b[0m\u001b[1;33m=\u001b[0m\u001b[0mnp\u001b[0m\u001b[1;33m.\u001b[0m\u001b[0mgenfromtxt\u001b[0m\u001b[1;33m(\u001b[0m\u001b[1;34m\"Stat.txt\"\u001b[0m\u001b[1;33m)\u001b[0m\u001b[1;33m\u001b[0m\u001b[1;33m\u001b[0m\u001b[0m\n\u001b[0m",
      "\u001b[1;32m~\\anaconda3\\lib\\site-packages\\numpy\\lib\\npyio.py\u001b[0m in \u001b[0;36mgenfromtxt\u001b[1;34m(fname, dtype, comments, delimiter, skip_header, skip_footer, converters, missing_values, filling_values, usecols, names, excludelist, deletechars, replace_space, autostrip, case_sensitive, defaultfmt, unpack, usemask, loose, invalid_raise, max_rows, encoding, like)\u001b[0m\n\u001b[0;32m   2122\u001b[0m             \u001b[1;31m# Raise an exception ?\u001b[0m\u001b[1;33m\u001b[0m\u001b[1;33m\u001b[0m\u001b[1;33m\u001b[0m\u001b[0m\n\u001b[0;32m   2123\u001b[0m             \u001b[1;32mif\u001b[0m \u001b[0minvalid_raise\u001b[0m\u001b[1;33m:\u001b[0m\u001b[1;33m\u001b[0m\u001b[1;33m\u001b[0m\u001b[0m\n\u001b[1;32m-> 2124\u001b[1;33m                 \u001b[1;32mraise\u001b[0m \u001b[0mValueError\u001b[0m\u001b[1;33m(\u001b[0m\u001b[0merrmsg\u001b[0m\u001b[1;33m)\u001b[0m\u001b[1;33m\u001b[0m\u001b[1;33m\u001b[0m\u001b[0m\n\u001b[0m\u001b[0;32m   2125\u001b[0m             \u001b[1;31m# Issue a warning ?\u001b[0m\u001b[1;33m\u001b[0m\u001b[1;33m\u001b[0m\u001b[1;33m\u001b[0m\u001b[0m\n\u001b[0;32m   2126\u001b[0m             \u001b[1;32melse\u001b[0m\u001b[1;33m:\u001b[0m\u001b[1;33m\u001b[0m\u001b[1;33m\u001b[0m\u001b[0m\n",
      "\u001b[1;31mValueError\u001b[0m: Some errors were detected !\n    Line #2 (got 7 columns instead of 11)\n    Line #3 (got 7 columns instead of 11)\n    Line #4 (got 7 columns instead of 11)\n    Line #5 (got 7 columns instead of 11)\n    Line #6 (got 7 columns instead of 11)\n    Line #7 (got 7 columns instead of 11)\n    Line #8 (got 7 columns instead of 11)\n    Line #9 (got 7 columns instead of 11)\n    Line #10 (got 7 columns instead of 11)\n    Line #11 (got 7 columns instead of 11)\n    Line #12 (got 7 columns instead of 11)\n    Line #13 (got 8 columns instead of 11)\n    Line #14 (got 8 columns instead of 11)\n    Line #15 (got 8 columns instead of 11)\n    Line #16 (got 7 columns instead of 11)\n    Line #17 (got 8 columns instead of 11)\n    Line #18 (got 7 columns instead of 11)\n    Line #19 (got 7 columns instead of 11)\n    Line #20 (got 7 columns instead of 11)\n    Line #21 (got 8 columns instead of 11)\n    Line #22 (got 7 columns instead of 11)\n    Line #23 (got 7 columns instead of 11)\n    Line #24 (got 7 columns instead of 11)\n    Line #25 (got 7 columns instead of 11)\n    Line #26 (got 7 columns instead of 11)\n    Line #27 (got 7 columns instead of 11)\n    Line #28 (got 7 columns instead of 11)\n    Line #29 (got 7 columns instead of 11)\n    Line #30 (got 7 columns instead of 11)\n    Line #31 (got 7 columns instead of 11)\n    Line #32 (got 8 columns instead of 11)\n    Line #33 (got 8 columns instead of 11)\n    Line #34 (got 7 columns instead of 11)\n    Line #35 (got 7 columns instead of 11)\n    Line #36 (got 7 columns instead of 11)\n    Line #37 (got 7 columns instead of 11)\n    Line #38 (got 7 columns instead of 11)\n    Line #39 (got 7 columns instead of 11)\n    Line #40 (got 8 columns instead of 11)\n    Line #41 (got 7 columns instead of 11)\n    Line #42 (got 9 columns instead of 11)\n    Line #43 (got 7 columns instead of 11)\n    Line #44 (got 7 columns instead of 11)\n    Line #45 (got 7 columns instead of 11)\n    Line #46 (got 7 columns instead of 11)\n    Line #47 (got 7 columns instead of 11)\n    Line #48 (got 7 columns instead of 11)\n    Line #49 (got 1 columns instead of 11)\n    Line #50 (got 1 columns instead of 11)\n    Line #51 (got 1 columns instead of 11)\n    Line #52 (got 1 columns instead of 11)\n    Line #53 (got 1 columns instead of 11)\n    Line #54 (got 1 columns instead of 11)\n    Line #55 (got 1 columns instead of 11)\n    Line #56 (got 1 columns instead of 11)\n    Line #57 (got 1 columns instead of 11)\n    Line #58 (got 1 columns instead of 11)\n    Line #59 (got 1 columns instead of 11)\n    Line #60 (got 1 columns instead of 11)\n    Line #61 (got 1 columns instead of 11)\n    Line #62 (got 1 columns instead of 11)\n    Line #63 (got 1 columns instead of 11)\n    Line #64 (got 1 columns instead of 11)\n    Line #65 (got 1 columns instead of 11)\n    Line #66 (got 1 columns instead of 11)\n    Line #67 (got 1 columns instead of 11)\n    Line #68 (got 1 columns instead of 11)\n    Line #69 (got 1 columns instead of 11)\n    Line #70 (got 1 columns instead of 11)\n    Line #71 (got 1 columns instead of 11)\n    Line #72 (got 1 columns instead of 11)\n    Line #73 (got 1 columns instead of 11)\n    Line #74 (got 1 columns instead of 11)\n    Line #75 (got 1 columns instead of 11)\n    Line #76 (got 1 columns instead of 11)\n    Line #77 (got 1 columns instead of 11)\n    Line #78 (got 1 columns instead of 11)\n    Line #79 (got 1 columns instead of 11)\n    Line #80 (got 1 columns instead of 11)\n    Line #81 (got 1 columns instead of 11)\n    Line #82 (got 1 columns instead of 11)\n    Line #83 (got 1 columns instead of 11)\n    Line #84 (got 1 columns instead of 11)\n    Line #85 (got 1 columns instead of 11)\n    Line #86 (got 1 columns instead of 11)\n    Line #87 (got 1 columns instead of 11)\n    Line #88 (got 1 columns instead of 11)\n    Line #89 (got 1 columns instead of 11)\n    Line #90 (got 1 columns instead of 11)\n    Line #91 (got 1 columns instead of 11)\n    Line #92 (got 1 columns instead of 11)\n    Line #93 (got 1 columns instead of 11)\n    Line #94 (got 1 columns instead of 11)\n    Line #95 (got 1 columns instead of 11)\n    Line #96 (got 1 columns instead of 11)"
     ]
    }
   ],
   "source": [
    "g=np.genfromtxt(\"Stat.txt\")"
   ]
  },
  {
   "cell_type": "code",
   "execution_count": 80,
   "metadata": {},
   "outputs": [],
   "source": [
    "np.savetxt('test.txt', x, delimiter=',')"
   ]
  },
  {
   "cell_type": "code",
   "execution_count": 82,
   "metadata": {},
   "outputs": [],
   "source": [
    "x=np.arange(0,6,2)"
   ]
  },
  {
   "cell_type": "code",
   "execution_count": 83,
   "metadata": {},
   "outputs": [
    {
     "data": {
      "text/plain": [
       "array([0, 2, 4])"
      ]
     },
     "execution_count": 83,
     "metadata": {},
     "output_type": "execute_result"
    }
   ],
   "source": [
    "x"
   ]
  },
  {
   "cell_type": "code",
   "execution_count": 88,
   "metadata": {},
   "outputs": [
    {
     "data": {
      "text/plain": [
       "(7, 25)"
      ]
     },
     "execution_count": 88,
     "metadata": {},
     "output_type": "execute_result"
    }
   ],
   "source": [
    "np.shape(x)"
   ]
  },
  {
   "cell_type": "code",
   "execution_count": 91,
   "metadata": {},
   "outputs": [],
   "source": [
    "X=np.random.random((2,5))"
   ]
  },
  {
   "cell_type": "code",
   "execution_count": 92,
   "metadata": {},
   "outputs": [
    {
     "data": {
      "text/plain": [
       "array([[0.93561055, 0.59934645, 0.06070784, 0.19631628, 0.51548033],\n",
       "       [0.68255066, 0.41625779, 0.82445837, 0.77330236, 0.22324942]])"
      ]
     },
     "execution_count": 92,
     "metadata": {},
     "output_type": "execute_result"
    }
   ],
   "source": [
    "X"
   ]
  },
  {
   "cell_type": "code",
   "execution_count": 94,
   "metadata": {},
   "outputs": [
    {
     "data": {
      "text/plain": [
       "array([[5.93561055, 5.59934645, 5.06070784, 5.19631628, 5.51548033],\n",
       "       [5.68255066, 5.41625779, 5.82445837, 5.77330236, 5.22324942]])"
      ]
     },
     "execution_count": 94,
     "metadata": {},
     "output_type": "execute_result"
    }
   ],
   "source": [
    "X+5"
   ]
  },
  {
   "cell_type": "code",
   "execution_count": 96,
   "metadata": {},
   "outputs": [
    {
     "data": {
      "text/plain": [
       "array([[-1.06438945, -1.40065355, -1.93929216, -1.80368372, -1.48451967],\n",
       "       [-1.31744934, -1.58374221, -1.17554163, -1.22669764, -1.77675058]])"
      ]
     },
     "execution_count": 96,
     "metadata": {},
     "output_type": "execute_result"
    }
   ],
   "source": [
    "X-2"
   ]
  },
  {
   "cell_type": "code",
   "execution_count": 97,
   "metadata": {},
   "outputs": [
    {
     "data": {
      "text/plain": [
       "array([[1.87122109, 1.19869289, 0.12141568, 0.39263257, 1.03096065],\n",
       "       [1.36510131, 0.83251557, 1.64891674, 1.54660472, 0.44649883]])"
      ]
     },
     "execution_count": 97,
     "metadata": {},
     "output_type": "execute_result"
    }
   ],
   "source": [
    "X*2"
   ]
  },
  {
   "cell_type": "code",
   "execution_count": 98,
   "metadata": {},
   "outputs": [
    {
     "data": {
      "text/plain": [
       "array([[0.31187018, 0.19978215, 0.02023595, 0.06543876, 0.17182678],\n",
       "       [0.22751689, 0.1387526 , 0.27481946, 0.25776745, 0.07441647]])"
      ]
     },
     "execution_count": 98,
     "metadata": {},
     "output_type": "execute_result"
    }
   ],
   "source": [
    "X/3"
   ]
  },
  {
   "cell_type": "code",
   "execution_count": 103,
   "metadata": {},
   "outputs": [
    {
     "data": {
      "text/plain": [
       "array([[1.53077553, 0.924178  , 0.96923576, 0.9672265 , 1.15556669],\n",
       "       [1.68057108, 1.16033058, 1.16849026, 1.32457836, 0.95860695]])"
      ]
     },
     "execution_count": 103,
     "metadata": {},
     "output_type": "execute_result"
    }
   ],
   "source": [
    "np.add(X,np.random.random((2,5)))"
   ]
  },
  {
   "cell_type": "code",
   "execution_count": 104,
   "metadata": {},
   "outputs": [
    {
     "data": {
      "text/plain": [
       "array([[ 0.39363251,  0.34866536, -0.83071558, -0.7122367 ,  0.31427653],\n",
       "       [ 0.35864837,  0.19352124, -0.03642306, -0.08488058, -0.45035839]])"
      ]
     },
     "execution_count": 104,
     "metadata": {},
     "output_type": "execute_result"
    }
   ],
   "source": [
    "np.subtract(X,np.random.random((2,5)))"
   ]
  },
  {
   "cell_type": "code",
   "execution_count": 108,
   "metadata": {},
   "outputs": [
    {
     "data": {
      "text/plain": [
       "array([[3.93293386e+00, 2.63427776e+01, 1.97926685e-01, 2.50673671e-01,\n",
       "        1.10552854e+00],\n",
       "       [2.72881258e+02, 6.91781069e-01, 2.02207186e+00, 9.90750712e-01,\n",
       "        5.14336109e-01]])"
      ]
     },
     "execution_count": 108,
     "metadata": {},
     "output_type": "execute_result"
    }
   ],
   "source": [
    "np.divide(X,np.random.random((2,5)))"
   ]
  },
  {
   "cell_type": "code",
   "execution_count": 109,
   "metadata": {},
   "outputs": [
    {
     "data": {
      "text/plain": [
       "array([[0.86361337, 0.34204742, 0.03885804, 0.05216237, 0.11237824],\n",
       "       [0.29387753, 0.21919429, 0.34931099, 0.52203291, 0.18852719]])"
      ]
     },
     "execution_count": 109,
     "metadata": {},
     "output_type": "execute_result"
    }
   ],
   "source": [
    "np.multiply(X,np.random.random((2,5)))"
   ]
  },
  {
   "cell_type": "code",
   "execution_count": 112,
   "metadata": {},
   "outputs": [
    {
     "data": {
      "text/plain": [
       "array([[0.1204093 , 0.08506893, 0.06070784, 0.05652936, 0.00683427],\n",
       "       [0.25638212, 0.00133867, 0.82445837, 0.28548547, 0.22324942]])"
      ]
     },
     "execution_count": 112,
     "metadata": {},
     "output_type": "execute_result"
    }
   ],
   "source": [
    "np.remainder(X,np.random.random((2,5)))"
   ]
  },
  {
   "cell_type": "code",
   "execution_count": 113,
   "metadata": {},
   "outputs": [
    {
     "data": {
      "text/plain": [
       "array([[0.93561055, 0.59934645, 0.06070784, 0.19631628, 0.51548033],\n",
       "       [0.68255066, 0.41625779, 0.82445837, 0.77330236, 0.22324942]])"
      ]
     },
     "execution_count": 113,
     "metadata": {},
     "output_type": "execute_result"
    }
   ],
   "source": [
    "X"
   ]
  },
  {
   "cell_type": "code",
   "execution_count": 114,
   "metadata": {},
   "outputs": [
    {
     "data": {
      "text/plain": [
       "array([[0.93561055],\n",
       "       [0.59934645],\n",
       "       [0.06070784],\n",
       "       [0.19631628],\n",
       "       [0.51548033],\n",
       "       [0.68255066],\n",
       "       [0.41625779],\n",
       "       [0.82445837],\n",
       "       [0.77330236],\n",
       "       [0.22324942]])"
      ]
     },
     "execution_count": 114,
     "metadata": {},
     "output_type": "execute_result"
    }
   ],
   "source": [
    "X.reshape(10,1)"
   ]
  },
  {
   "cell_type": "code",
   "execution_count": 116,
   "metadata": {},
   "outputs": [
    {
     "data": {
      "text/plain": [
       "array([0.93561055, 0.59934645, 0.06070784, 0.19631628, 0.51548033,\n",
       "       0.68255066, 0.41625779, 0.82445837, 0.77330236, 0.22324942])"
      ]
     },
     "execution_count": 116,
     "metadata": {},
     "output_type": "execute_result"
    }
   ],
   "source": [
    "X.ravel()"
   ]
  },
  {
   "cell_type": "code",
   "execution_count": 123,
   "metadata": {},
   "outputs": [
    {
     "data": {
      "text/plain": [
       "array([[0.93561055, 0.59934645, 0.06070784, 0.19631628, 0.51548033],\n",
       "       [0.68255066, 0.41625779, 0.82445837, 0.77330236, 0.22324942]])"
      ]
     },
     "execution_count": 123,
     "metadata": {},
     "output_type": "execute_result"
    }
   ],
   "source": [
    "X"
   ]
  },
  {
   "cell_type": "code",
   "execution_count": 119,
   "metadata": {},
   "outputs": [
    {
     "data": {
      "text/plain": [
       "array([0.93561055, 0.59934645, 0.06070784, 0.19631628, 0.51548033,\n",
       "       0.68255066, 0.41625779, 0.82445837, 0.77330236, 0.22324942,\n",
       "       2.        , 3.        , 4.        , 5.        , 6.        ])"
      ]
     },
     "execution_count": 119,
     "metadata": {},
     "output_type": "execute_result"
    }
   ],
   "source": [
    "np.append(X,[2,3,4,5,6])"
   ]
  },
  {
   "cell_type": "code",
   "execution_count": 125,
   "metadata": {},
   "outputs": [
    {
     "data": {
      "text/plain": [
       "array([[0.93561055, 0.68255066],\n",
       "       [0.59934645, 0.41625779],\n",
       "       [0.06070784, 0.82445837],\n",
       "       [0.19631628, 0.77330236],\n",
       "       [0.51548033, 0.22324942]])"
      ]
     },
     "execution_count": 125,
     "metadata": {},
     "output_type": "execute_result"
    }
   ],
   "source": [
    "np.column_stack(X)"
   ]
  },
  {
   "cell_type": "code",
   "execution_count": 134,
   "metadata": {},
   "outputs": [],
   "source": [
    "A=np.array([1,2,3,4,5,6])\n",
    "A=np.append(A,[1,2,3,4,5,6])"
   ]
  },
  {
   "cell_type": "code",
   "execution_count": 135,
   "metadata": {},
   "outputs": [
    {
     "data": {
      "text/plain": [
       "array([1, 2, 3, 4, 5, 6, 1, 2, 3, 4, 5, 6])"
      ]
     },
     "execution_count": 135,
     "metadata": {},
     "output_type": "execute_result"
    }
   ],
   "source": [
    "A"
   ]
  },
  {
   "cell_type": "code",
   "execution_count": 133,
   "metadata": {},
   "outputs": [
    {
     "data": {
      "text/plain": [
       "array([[1, 2, 3, 4, 5, 6, 1, 2, 3, 4, 5, 6]])"
      ]
     },
     "execution_count": 133,
     "metadata": {},
     "output_type": "execute_result"
    }
   ],
   "source": [
    "np.column_stack(A)"
   ]
  },
  {
   "cell_type": "code",
   "execution_count": 136,
   "metadata": {},
   "outputs": [
    {
     "data": {
      "text/plain": [
       "(array([2, 0, 2, 0, 2, 0, 2, 0, 2, 2], dtype=int64),\n",
       " array([1. , 1.5, 2. , 2.5, 3. , 3.5, 4. , 4.5, 5. , 5.5, 6. ]))"
      ]
     },
     "execution_count": 136,
     "metadata": {},
     "output_type": "execute_result"
    }
   ],
   "source": [
    "np.histogram(A)"
   ]
  },
  {
   "cell_type": "code",
   "execution_count": 198,
   "metadata": {},
   "outputs": [],
   "source": [
    "rlist=np.random.randint(10,size=100)"
   ]
  },
  {
   "cell_type": "code",
   "execution_count": 199,
   "metadata": {},
   "outputs": [
    {
     "data": {
      "text/plain": [
       "array([6, 8, 8, 2, 6, 0, 6, 5, 0, 4, 3, 0, 8, 6, 7, 4, 6, 9, 1, 5, 8, 1,\n",
       "       0, 1, 5, 5, 8, 1, 9, 5, 3, 7, 2, 9, 3, 6, 4, 6, 3, 4, 5, 7, 3, 4,\n",
       "       0, 0, 1, 9, 0, 1, 4, 7, 9, 8, 0, 5, 2, 5, 6, 1, 5, 0, 5, 6, 4, 0,\n",
       "       6, 1, 1, 2, 1, 3, 7, 1, 3, 6, 3, 0, 8, 8, 8, 6, 5, 5, 6, 4, 2, 1,\n",
       "       6, 7, 8, 0, 3, 3, 7, 6, 4, 1, 0, 1])"
      ]
     },
     "execution_count": 199,
     "metadata": {},
     "output_type": "execute_result"
    }
   ],
   "source": [
    "rlist"
   ]
  },
  {
   "cell_type": "code",
   "execution_count": 171,
   "metadata": {},
   "outputs": [],
   "source": [
    "import random"
   ]
  },
  {
   "cell_type": "code",
   "execution_count": 178,
   "metadata": {},
   "outputs": [
    {
     "data": {
      "text/plain": [
       "1"
      ]
     },
     "execution_count": 178,
     "metadata": {},
     "output_type": "execute_result"
    }
   ],
   "source": [
    "random.randint(0,1)"
   ]
  },
  {
   "cell_type": "code",
   "execution_count": 179,
   "metadata": {},
   "outputs": [
    {
     "data": {
      "text/plain": [
       "0.5482146263021677"
      ]
     },
     "execution_count": 179,
     "metadata": {},
     "output_type": "execute_result"
    }
   ],
   "source": [
    "rlist[random.randint(0,4)]"
   ]
  },
  {
   "cell_type": "code",
   "execution_count": 206,
   "metadata": {},
   "outputs": [],
   "source": [
    "R=[]\n",
    "for i in range(0,50):\n",
    "    l=[]\n",
    "    for j in range(0,4):\n",
    "        l.append(rlist[random.randint(0,len(rlist)-1)])\n",
    "    R=np.append(R,l)"
   ]
  },
  {
   "cell_type": "code",
   "execution_count": 207,
   "metadata": {},
   "outputs": [
    {
     "data": {
      "image/png": "[encoded data removed]",
      "text/plain": [
       "<Figure size 432x288 with 1 Axes>"
      ]
     },
     "metadata": {
      "needs_background": "light"
     },
     "output_type": "display_data"
    }
   ],
   "source": [
    "import numpy as np\n",
    "import matplotlib.pyplot as plt\n",
    "\n",
    "# Construct the histogram with a flattened 3d array and a range of bins\n",
    "plt.hist(R.ravel(), bins=range(0,13))\n",
    "\n",
    "# Add a title to the plot\n",
    "plt.title('Frequency of My 3D Array Elements')\n",
    "\n",
    "# Show the plot\n",
    "plt.show()"
   ]
  },
  {
   "cell_type": "code",
   "execution_count": 208,
   "metadata": {},
   "outputs": [
    {
     "data": {
      "image/png": "[encoded data removed]",
      "text/plain": [
       "<Figure size 432x288 with 2 Axes>"
      ]
     },
     "metadata": {
      "needs_background": "light"
     },
     "output_type": "display_data"
    }
   ],
   "source": [
    "import numpy as np\n",
    "import matplotlib.pyplot as plt\n",
    "\n",
    "# Create an array\n",
    "points = np.arange(-5, 5, 0.01)\n",
    "\n",
    "# Make a meshgrid\n",
    "xs, ys = np.meshgrid(points, points)\n",
    "z = np.sqrt(xs ** 2 + ys ** 2)\n",
    "\n",
    "# Display the image on the axes\n",
    "plt.imshow(z, cmap=plt.cm.gray)\n",
    "\n",
    "# Draw a color bar\n",
    "plt.colorbar()\n",
    "\n",
    "# Show the plot\n",
    "plt.show()"
   ]
  }
 ],
 "metadata": {
  "kernelspec": {
   "display_name": "Python 3",
   "language": "python",
   "name": "python3"
  },
  "language_info": {
   "codemirror_mode": {
    "name": "ipython",
    "version": 3
   },
   "file_extension": ".py",
   "mimetype": "text/x-python",
   "name": "python",
   "nbconvert_exporter": "python",
   "pygments_lexer": "ipython3",
   "version": "3.7.6"
  }
 },
 "nbformat": 4,
 "nbformat_minor": 4
}
